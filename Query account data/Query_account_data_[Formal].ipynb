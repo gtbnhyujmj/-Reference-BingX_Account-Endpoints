{
  "nbformat": 4,
  "nbformat_minor": 0,
  "metadata": {
    "colab": {
      "provenance": [],
      "authorship_tag": "ABX9TyNBhN8PKZfAV+4u3HkZWnBW",
      "include_colab_link": true
    },
    "kernelspec": {
      "name": "python3",
      "display_name": "Python 3"
    },
    "language_info": {
      "name": "python"
    }
  },
  "cells": [
    {
      "cell_type": "markdown",
      "metadata": {
        "id": "view-in-github",
        "colab_type": "text"
      },
      "source": [
        "<a href=\"https://colab.research.google.com/github/gtbnhyujmj/-Reference-BingX_Account-Endpoints/blob/main/Query_account_data_%5BFormal%5D.ipynb\" target=\"_parent\"><img src=\"https://colab.research.google.com/assets/colab-badge.svg\" alt=\"Open In Colab\"/></a>"
      ]
    },
    {
      "cell_type": "code",
      "execution_count": null,
      "metadata": {
        "id": "RohVZCFGgSQB"
      },
      "outputs": [],
      "source": [
        "# 查詢帳戶資料\n",
        "# 取得使用者USDC和USDT永續合約帳戶的資產資訊"
      ]
    },
    {
      "cell_type": "code",
      "source": [
        "# GET /openApi/swap/v3/user/balance\n",
        "# 頻率限制：依UID限制為每秒5次 & 依IP組合限制數量\n",
        "# API KEY權限：讀取"
      ],
      "metadata": {
        "id": "n25dYiBGiCJv"
      },
      "execution_count": null,
      "outputs": []
    },
    {
      "cell_type": "code",
      "source": [
        "import time\n",
        "import requests\n",
        "import hmac\n",
        "from hashlib import sha256"
      ],
      "metadata": {
        "id": "duboKFiCiJsn"
      },
      "execution_count": null,
      "outputs": []
    },
    {
      "cell_type": "code",
      "source": [
        "APIURL = \"https://open-api.bingx.com\"  # API的基礎URL\n",
        "APIKEY = \"\"  # 請填入你的API KEY\n",
        "SECRETKEY = \"\"  # 請填入你的SECRET KEY"
      ],
      "metadata": {
        "id": "OvAn1IfJiOCX"
      },
      "execution_count": null,
      "outputs": []
    },
    {
      "cell_type": "code",
      "source": [
        "def demo():\n",
        "    payload = {}  # 請求的主體資料（GET通常為空）\n",
        "    path = '/openApi/swap/v3/user/balance'  # API的路徑，用來查詢帳戶資產餘額\n",
        "    method = \"GET\"  # HTTP方法\n",
        "    paramsMap = {}  # URL參數字典\n",
        "    paramsStr = parseParam(paramsMap)  # 將參數字典轉換成URL查詢字串並加入時間戳\n",
        "    return send_request(method, path, paramsStr, payload)  # 發送API請求並回傳結果"
      ],
      "metadata": {
        "id": "y4QkLVIhiQIv"
      },
      "execution_count": null,
      "outputs": []
    },
    {
      "cell_type": "code",
      "source": [
        "def get_sign(api_secret, payload):\n",
        "    # 利用HMAC-SHA256對payload字串進行簽名，確保請求安全性\n",
        "    signature = hmac.new(api_secret.encode(\"utf-8\"), payload.encode(\"utf-8\"), digestmod=sha256).hexdigest()\n",
        "    print(\"sign=\" + signature)  # 輸出簽名字串供除錯用\n",
        "    return signature"
      ],
      "metadata": {
        "id": "2XtpyrdkiRxm"
      },
      "execution_count": null,
      "outputs": []
    },
    {
      "cell_type": "code",
      "source": [
        "def send_request(method, path, urlpa, payload):\n",
        "    # 組合完整請求URL，並在URL中加入簽名參數signature\n",
        "    url = \"%s%s?%s&signature=%s\" % (APIURL, path, urlpa, get_sign(SECRETKEY, urlpa))\n",
        "    print(url)  # 輸出完整URL供除錯用\n",
        "\n",
        "    headers = {\n",
        "        'X-BX-APIKEY': APIKEY,  # API Key放在HTTP Header\n",
        "    }\n",
        "\n",
        "    # 發送HTTP請求，method可能為GET、POST等\n",
        "    response = requests.request(method, url, headers=headers, data=payload)\n",
        "    return response.text  # 回傳API回應的文字內容"
      ],
      "metadata": {
        "id": "YPEMwrLOiToO"
      },
      "execution_count": null,
      "outputs": []
    },
    {
      "cell_type": "code",
      "source": [
        "def parseParam(paramsMap):\n",
        "    # 將參數字典依鍵名排序後組合成URL查詢字串，例如 a=1&b=2\n",
        "    sortedKeys = sorted(paramsMap)\n",
        "    paramsStr = \"&\".join([\"%s=%s\" % (x, paramsMap[x]) for x in sortedKeys])\n",
        "\n",
        "    # 加上timestamp參數，必須是毫秒級時間戳，用於防止重放攻擊\n",
        "    if paramsStr != \"\":\n",
        "        return paramsStr + \"&timestamp=\" + str(int(time.time() * 1000))\n",
        "    else:\n",
        "        return \"timestamp=\" + str(int(time.time() * 1000))"
      ],
      "metadata": {
        "id": "YGO_Q14kiVqe"
      },
      "execution_count": null,
      "outputs": []
    },
    {
      "cell_type": "code",
      "source": [
        "if __name__ == '__main__':\n",
        "    print(\"demo:\", demo())  # 執行demo函數，印出API回應結果"
      ],
      "metadata": {
        "id": "Xt6PY4YSiXte"
      },
      "execution_count": null,
      "outputs": []
    }
  ]
}
