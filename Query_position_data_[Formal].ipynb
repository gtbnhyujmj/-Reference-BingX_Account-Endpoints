{
  "nbformat": 4,
  "nbformat_minor": 0,
  "metadata": {
    "colab": {
      "provenance": [],
      "authorship_tag": "ABX9TyNZ2eFpDkMgSZDabfRzIe/e",
      "include_colab_link": true
    },
    "kernelspec": {
      "name": "python3",
      "display_name": "Python 3"
    },
    "language_info": {
      "name": "python"
    }
  },
  "cells": [
    {
      "cell_type": "markdown",
      "metadata": {
        "id": "view-in-github",
        "colab_type": "text"
      },
      "source": [
        "<a href=\"https://colab.research.google.com/github/gtbnhyujmj/-Reference-BingX_Account-Endpoints/blob/main/Query_position_data_%5BFormal%5D.ipynb\" target=\"_parent\"><img src=\"https://colab.research.google.com/assets/colab-badge.svg\" alt=\"Open In Colab\"/></a>"
      ]
    },
    {
      "cell_type": "code",
      "execution_count": 2,
      "metadata": {
        "id": "WUvZLOiFjBEx"
      },
      "outputs": [],
      "source": [
        "# Query position data / 查詢持倉資料\n",
        "# 取得使用者永續合約持倉資訊\n",
        "\n",
        "# GET /openApi/swap/v2/user/positions\n",
        "# 頻率限制：依UID限制為每秒5次 & 依IP組合限制數量\n",
        "# API KEY權限：讀取"
      ]
    },
    {
      "cell_type": "code",
      "source": [
        "import time\n",
        "import requests\n",
        "import hmac\n",
        "from hashlib import sha256"
      ],
      "metadata": {
        "id": "YHa7FDftjGeW"
      },
      "execution_count": null,
      "outputs": []
    },
    {
      "cell_type": "code",
      "source": [
        "APIURL = \"https://open-api.bingx.com\"  # API 基本網址\n",
        "APIKEY = \"\"  # 輸入你的 API Key\n",
        "SECRETKEY = \"\"  # 輸入你的 Secret Key"
      ],
      "metadata": {
        "id": "ag79beaIjYyW"
      },
      "execution_count": null,
      "outputs": []
    },
    {
      "cell_type": "code",
      "source": [
        "def demo():\n",
        "    payload = {}  # GET 請求通常無主體內容\n",
        "    path = '/openApi/swap/v2/user/positions'  # 查詢使用者持倉資料的 API 路徑\n",
        "    method = \"GET\"  # HTTP 方法\n",
        "\n",
        "    paramsMap = {\n",
        "        \"symbol\": \"BNB-USDT\"  # 要查詢的交易對參數\n",
        "    }\n",
        "\n",
        "    paramsStr = parseParam(paramsMap)  # 將參數字典轉換為 URL 查詢字串並加入 timestamp\n",
        "    return send_request(method, path, paramsStr, payload)  # 發送請求並回傳結果"
      ],
      "metadata": {
        "id": "3AflRmyzjade"
      },
      "execution_count": null,
      "outputs": []
    },
    {
      "cell_type": "code",
      "source": [
        "def get_sign(api_secret, payload):\n",
        "    # 使用 HMAC-SHA256 演算法對 payload 進行簽名，確保請求完整性和安全\n",
        "    signature = hmac.new(api_secret.encode(\"utf-8\"), payload.encode(\"utf-8\"), digestmod=sha256).hexdigest()\n",
        "    print(\"sign=\" + signature)  # 印出簽名以便除錯\n",
        "    return signature"
      ],
      "metadata": {
        "id": "GuXVX1G9jb9e"
      },
      "execution_count": null,
      "outputs": []
    },
    {
      "cell_type": "code",
      "source": [
        "def send_request(method, path, urlpa, payload):\n",
        "    # 組合完整請求 URL，包含簽名參數\n",
        "    url = \"%s%s?%s&signature=%s\" % (APIURL, path, urlpa, get_sign(SECRETKEY, urlpa))\n",
        "    print(url)  # 輸出完整請求 URL 方便查看\n",
        "\n",
        "    headers = {\n",
        "        'X-BX-APIKEY': APIKEY,  # 請求標頭放置 API Key\n",
        "    }\n",
        "\n",
        "    response = requests.request(method, url, headers=headers, data=payload)  # 發送 HTTP 請求\n",
        "    return response.text  # 回傳 API 回應字串"
      ],
      "metadata": {
        "id": "4D1YJPWjjdmG"
      },
      "execution_count": null,
      "outputs": []
    },
    {
      "cell_type": "code",
      "source": [
        "def parseParam(paramsMap):\n",
        "\n",
        "    # 將參數字典依鍵名排序並組合成 URL 查詢字串\n",
        "    sortedKeys = sorted(paramsMap)\n",
        "    paramsStr = \"&\".join([\"%s=%s\" % (x, paramsMap[x]) for x in sortedKeys])\n",
        "\n",
        "    # 加入毫秒級時間戳記，防止重放攻擊\n",
        "    if paramsStr != \"\":\n",
        "        return paramsStr + \"&timestamp=\" + str(int(time.time() * 1000))\n",
        "    else:\n",
        "        return \"timestamp=\" + str(int(time.time() * 1000))"
      ],
      "metadata": {
        "id": "LCpfPItfjfAu"
      },
      "execution_count": null,
      "outputs": []
    },
    {
      "cell_type": "code",
      "source": [
        "if __name__ == '__main__':\n",
        "    print(\"demo:\", demo())  # 執行示範函式並印出回應"
      ],
      "metadata": {
        "id": "bsYn1BuejgNm"
      },
      "execution_count": null,
      "outputs": []
    }
  ]
}