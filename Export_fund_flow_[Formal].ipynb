{
  "nbformat": 4,
  "nbformat_minor": 0,
  "metadata": {
    "colab": {
      "provenance": [],
      "authorship_tag": "ABX9TyP62x4cYrNwR2Az7A1PB5yg",
      "include_colab_link": true
    },
    "kernelspec": {
      "name": "python3",
      "display_name": "Python 3"
    },
    "language_info": {
      "name": "python"
    }
  },
  "cells": [
    {
      "cell_type": "markdown",
      "metadata": {
        "id": "view-in-github",
        "colab_type": "text"
      },
      "source": [
        "<a href=\"https://colab.research.google.com/github/gtbnhyujmj/-Reference-BingX_Account-Endpoints/blob/main/Export_fund_flow_%5BFormal%5D.ipynb\" target=\"_parent\"><img src=\"https://colab.research.google.com/assets/colab-badge.svg\" alt=\"Open In Colab\"/></a>"
      ]
    },
    {
      "cell_type": "markdown",
      "source": [
        "Export fund flow = 匯出資金流向 \\\n",
        "匯出資金流向資料 \\"
      ],
      "metadata": {
        "id": "eWXTRwpKmEYe"
      }
    },
    {
      "cell_type": "markdown",
      "source": [
        "GET/openApi/swap/v2/user/income/export \\\n",
        "頻率限制：依UID限制為每秒5次 & 依IP組合限制數量 \\\n",
        "API KEY權限：永續合約交易"
      ],
      "metadata": {
        "id": "ykNWjkA5mLpV"
      }
    },
    {
      "cell_type": "markdown",
      "source": [
        "資料僅保留最近3個月。 \\"
      ],
      "metadata": {
        "id": "rnve1O1XmNUE"
      }
    },
    {
      "cell_type": "code",
      "execution_count": null,
      "metadata": {
        "id": "kYj0JcTmmBNW"
      },
      "outputs": [],
      "source": [
        "import time\n",
        "import requests\n",
        "import hmac\n",
        "from hashlib import sha256"
      ]
    },
    {
      "cell_type": "code",
      "source": [
        "APIURL = \"https://open-api.bingx.com\"  # API 基本網址\n",
        "APIKEY = \"\"  # 輸入你的 API Key\n",
        "SECRETKEY = \"\"  # 輸入你的 Secret Key"
      ],
      "metadata": {
        "id": "q0cTTlhbmsF8"
      },
      "execution_count": null,
      "outputs": []
    },
    {
      "cell_type": "code",
      "source": [
        "def demo():\n",
        "    payload = {}  # GET 請求通常沒有主體\n",
        "    path = '/openApi/swap/v2/user/income/export'  # 匯出資金流向 API 路徑\n",
        "    method = \"GET\"  # HTTP 請求方法\n",
        "\n",
        "    paramsMap = {\n",
        "        \"endTime\": \"\",           # 查詢結束時間（毫秒時間戳），空則使用預設\n",
        "        \"limit\": \"200\",          # 輸出資料筆數限制\n",
        "        \"recvWindow\": \"10000\",   # 請求有效時間窗口（毫秒）\n",
        "        \"startTime\": \"\",         # 查詢起始時間（毫秒時間戳），空則使用預設\n",
        "        \"symbol\": \"BTC-USDT\"     # 交易對\n",
        "    }\n",
        "\n",
        "    paramsStr = parseParam(paramsMap)  # 將參數字典轉為 URL 查詢字串並加入時間戳\n",
        "    return send_request(method, path, paramsStr, payload)  # 發送請求並回傳結果"
      ],
      "metadata": {
        "id": "OdCPRa_fmtUs"
      },
      "execution_count": null,
      "outputs": []
    },
    {
      "cell_type": "code",
      "source": [
        "def get_sign(api_secret, payload):\n",
        "    # 用 HMAC-SHA256 演算法產生簽名，確保請求安全性\n",
        "    signature = hmac.new(api_secret.encode(\"utf-8\"), payload.encode(\"utf-8\"), digestmod=sha256).hexdigest()\n",
        "    print(\"sign=\" + signature)  # 印出簽名以便除錯\n",
        "    return signature"
      ],
      "metadata": {
        "id": "tuVBj6UHmv3c"
      },
      "execution_count": null,
      "outputs": []
    },
    {
      "cell_type": "code",
      "source": [
        "def send_request(method, path, urlpa, payload):\n",
        "    # 組合完整請求 URL，並帶入簽名\n",
        "    url = \"%s%s?%s&signature=%s\" % (APIURL, path, urlpa, get_sign(SECRETKEY, urlpa))\n",
        "    print(url)  # 輸出請求 URL 方便檢查\n",
        "\n",
        "    headers = {\n",
        "        'X-BX-APIKEY': APIKEY,  # API Key 放入標頭\n",
        "    }\n",
        "\n",
        "    response = requests.request(method, url, headers=headers, data=payload)  # 發送 HTTP 請求\n",
        "    return response.text  # 回傳 API 回應內容"
      ],
      "metadata": {
        "id": "eFP5AFLRmxJN"
      },
      "execution_count": null,
      "outputs": []
    },
    {
      "cell_type": "code",
      "source": [
        "def parseParam(paramsMap):\n",
        "    # 將參數字典依鍵名排序並組合成 URL 查詢字串\n",
        "    sortedKeys = sorted(paramsMap)\n",
        "    paramsStr = \"&\".join([\"%s=%s\" % (x, paramsMap[x]) for x in sortedKeys])\n",
        "\n",
        "    # 加入毫秒級時間戳防止重放攻擊\n",
        "    if paramsStr != \"\":\n",
        "        return paramsStr + \"&timestamp=\" + str(int(time.time() * 1000))\n",
        "    else:\n",
        "        return \"timestamp=\" + str(int(time.time() * 1000))"
      ],
      "metadata": {
        "id": "-2L1qXa9myVM"
      },
      "execution_count": null,
      "outputs": []
    },
    {
      "cell_type": "code",
      "source": [
        "if __name__ == '__main__':\n",
        "    print(\"demo:\", demo())  # 執行範例並印出結果"
      ],
      "metadata": {
        "id": "yOkY5duFmzbs"
      },
      "execution_count": null,
      "outputs": []
    }
  ]
}