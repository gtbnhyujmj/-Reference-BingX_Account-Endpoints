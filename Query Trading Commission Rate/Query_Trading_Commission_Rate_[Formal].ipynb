{
  "nbformat": 4,
  "nbformat_minor": 0,
  "metadata": {
    "colab": {
      "provenance": [],
      "authorship_tag": "ABX9TyOJxZwcjkpfKkLDomXTy3G3",
      "include_colab_link": true
    },
    "kernelspec": {
      "name": "python3",
      "display_name": "Python 3"
    },
    "language_info": {
      "name": "python"
    }
  },
  "cells": [
    {
      "cell_type": "markdown",
      "metadata": {
        "id": "view-in-github",
        "colab_type": "text"
      },
      "source": [
        "<a href=\"https://colab.research.google.com/github/gtbnhyujmj/-Reference-BingX_Account-Endpoints/blob/main/Query_Trading_Commission_Rate_%5BFormal%5D.ipynb\" target=\"_parent\"><img src=\"https://colab.research.google.com/assets/colab-badge.svg\" alt=\"Open In Colab\"/></a>"
      ]
    },
    {
      "cell_type": "markdown",
      "source": [
        "查詢交易手續費率 \\\n",
        "取得當前使用者的交易費率"
      ],
      "metadata": {
        "id": "MzgrXqZmnUM1"
      }
    },
    {
      "cell_type": "markdown",
      "source": [
        "GET/openApi/swap/v2/user/commissionRate \\\n",
        "頻率限制：依UID限制為每秒5次 & 依IP組合限制數量 \\\n",
        "API KEY權限：永續合約交易"
      ],
      "metadata": {
        "id": "IvtCkg4BnZvs"
      }
    },
    {
      "cell_type": "code",
      "execution_count": null,
      "metadata": {
        "id": "CVtO-T-1nTsU"
      },
      "outputs": [],
      "source": [
        "import time\n",
        "import requests\n",
        "import hmac\n",
        "from hashlib import sha256"
      ]
    },
    {
      "cell_type": "code",
      "source": [
        "APIURL = \"https://open-api.bingx.com\"  # API 基本網址\n",
        "APIKEY = \"\"  # 填入你的 API Key\n",
        "SECRETKEY = \"\"  # 填入你的 Secret Key"
      ],
      "metadata": {
        "id": "f8dBllR1niQE"
      },
      "execution_count": null,
      "outputs": []
    },
    {
      "cell_type": "code",
      "source": [
        "def demo():\n",
        "    payload = {}  # GET 請求無主體\n",
        "    path = '/openApi/swap/v2/user/commissionRate'  # 查詢交易手續費率 API 路徑\n",
        "    method = \"GET\"  # HTTP 方法\n",
        "\n",
        "    paramsMap = {\n",
        "        \"recvWindow\": \"5000\"  # 請求有效時間窗口，單位毫秒\n",
        "    }\n",
        "\n",
        "    paramsStr = parseParam(paramsMap)  # 將參數轉換為 URL 查詢字串並加入 timestamp\n",
        "    return send_request(method, path, paramsStr, payload)  # 發送請求並回傳結果"
      ],
      "metadata": {
        "id": "oJyy0emWnkqs"
      },
      "execution_count": null,
      "outputs": []
    },
    {
      "cell_type": "code",
      "source": [
        "def get_sign(api_secret, payload):\n",
        "    # 使用 HMAC-SHA256 演算法產生簽名，確保請求完整與安全\n",
        "    signature = hmac.new(api_secret.encode(\"utf-8\"), payload.encode(\"utf-8\"), digestmod=sha256).hexdigest()\n",
        "    print(\"sign=\" + signature)  # 印出簽名以便除錯\n",
        "    return signature"
      ],
      "metadata": {
        "id": "9m_hPctMnmEs"
      },
      "execution_count": null,
      "outputs": []
    },
    {
      "cell_type": "code",
      "source": [
        "def send_request(method, path, urlpa, payload):\n",
        "    # 組合完整請求 URL，並加入簽名參數\n",
        "    url = \"%s%s?%s&signature=%s\" % (APIURL, path, urlpa, get_sign(SECRETKEY, urlpa))\n",
        "    print(url)  # 輸出請求 URL 方便檢查\n",
        "\n",
        "    headers = {\n",
        "        'X-BX-APIKEY': APIKEY,  # 在標頭帶入 API Key\n",
        "    }\n",
        "\n",
        "    response = requests.request(method, url, headers=headers, data=payload)  # 發送 HTTP 請求\n",
        "    return response.text  # 回傳 API 回應字串"
      ],
      "metadata": {
        "id": "-p2m-ftwnnOc"
      },
      "execution_count": null,
      "outputs": []
    },
    {
      "cell_type": "code",
      "source": [
        "def parseParam(paramsMap):\n",
        "    # 將參數依鍵名排序並組合成 URL 查詢字串\n",
        "    sortedKeys = sorted(paramsMap)\n",
        "    paramsStr = \"&\".join([\"%s=%s\" % (x, paramsMap[x]) for x in sortedKeys])\n",
        "\n",
        "    # 加入毫秒級 timestamp 防止重放攻擊\n",
        "    if paramsStr != \"\":\n",
        "        return paramsStr + \"&timestamp=\" + str(int(time.time() * 1000))\n",
        "    else:\n",
        "        return \"timestamp=\" + str(int(time.time() * 1000))"
      ],
      "metadata": {
        "id": "xNX_YiiLno3N"
      },
      "execution_count": null,
      "outputs": []
    },
    {
      "cell_type": "code",
      "source": [
        "if __name__ == '__main__':\n",
        "    print(\"demo:\", demo())  # 執行範例並印出結果"
      ],
      "metadata": {
        "id": "DbDZrBnWnqbc"
      },
      "execution_count": null,
      "outputs": []
    }
  ]
}
