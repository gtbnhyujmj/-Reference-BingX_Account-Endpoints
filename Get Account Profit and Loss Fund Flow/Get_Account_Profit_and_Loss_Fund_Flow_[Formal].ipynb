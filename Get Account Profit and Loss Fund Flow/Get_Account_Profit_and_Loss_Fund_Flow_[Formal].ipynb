{
  "nbformat": 4,
  "nbformat_minor": 0,
  "metadata": {
    "colab": {
      "provenance": [],
      "authorship_tag": "ABX9TyO1T/spuRXJQtbd9k1EkRcp",
      "include_colab_link": true
    },
    "kernelspec": {
      "name": "python3",
      "display_name": "Python 3"
    },
    "language_info": {
      "name": "python"
    }
  },
  "cells": [
    {
      "cell_type": "markdown",
      "metadata": {
        "id": "view-in-github",
        "colab_type": "text"
      },
      "source": [
        "<a href=\"https://colab.research.google.com/github/gtbnhyujmj/-Reference-BingX_Account-Endpoints/blob/main/Get_Account_Profit_and_Loss_Fund_Flow_%5BFormal%5D.ipynb\" target=\"_parent\"><img src=\"https://colab.research.google.com/assets/colab-badge.svg\" alt=\"Open In Colab\"/></a>"
      ]
    },
    {
      "cell_type": "code",
      "execution_count": null,
      "metadata": {
        "id": "6dsCFqtYkhue"
      },
      "outputs": [],
      "source": [
        "# 取得帳戶盈虧資金流向 \\\n",
        "# 查詢當前帳戶下永續合約的資金流動情況。 \\"
      ]
    },
    {
      "cell_type": "code",
      "source": [
        "# GET /openApi/swap/v2/user/income \\\n",
        "# 頻率限制：依UID限制為每秒5次 & 依IP組合限制數量 \\\n",
        "# API KEY權限：永續合約交易"
      ],
      "metadata": {
        "id": "F6EenJ3KkuJ1"
      },
      "execution_count": null,
      "outputs": []
    },
    {
      "cell_type": "code",
      "source": [
        "# 若未傳送 startTime 與 endTime，僅返回過去7天的資料。\n",
        "# 若未傳送 incomeType，則返回所有類型的帳戶盈虧資金流向。\n",
        "# 資料只保留最近3個月。"
      ],
      "metadata": {
        "id": "w918ZDp0ktA2"
      },
      "execution_count": null,
      "outputs": []
    },
    {
      "cell_type": "code",
      "source": [
        "import time\n",
        "import requests\n",
        "import hmac\n",
        "from hashlib import sha256"
      ],
      "metadata": {
        "id": "NCYici0Kk_Ll"
      },
      "execution_count": null,
      "outputs": []
    },
    {
      "cell_type": "code",
      "source": [
        "APIURL = \"https://open-api.bingx.com\"  # API基礎網址\n",
        "APIKEY = \"\"  # 填入你的API Key\n",
        "SECRETKEY = \"\"  # 填入你的Secret Key"
      ],
      "metadata": {
        "id": "-PtZbWQzlBpV"
      },
      "execution_count": null,
      "outputs": []
    },
    {
      "cell_type": "code",
      "source": [
        "def demo():\n",
        "    payload = {}  # GET請求無內容\n",
        "    path = '/openApi/swap/v2/user/income'  # 查詢帳戶盈虧資金流向API路徑\n",
        "    method = \"GET\"  # HTTP請求方法\n",
        "\n",
        "    paramsMap = {\n",
        "        \"startTime\": \"1702713615001\",  # 查詢起始時間，毫秒時間戳\n",
        "        \"endTime\": \"1702731787011\",    # 查詢結束時間，毫秒時間戳\n",
        "        \"limit\": \"1000\"                # 返回資料數量限制\n",
        "    }\n",
        "\n",
        "    paramsStr = parseParam(paramsMap)  # 將參數字典轉成URL查詢字串，並加上timestamp\n",
        "    return send_request(method, path, paramsStr, payload)  # 發送API請求並回傳結果"
      ],
      "metadata": {
        "id": "zTO-c0BhlD6V"
      },
      "execution_count": null,
      "outputs": []
    },
    {
      "cell_type": "code",
      "source": [
        "def get_sign(api_secret, payload):\n",
        "    # 利用HMAC-SHA256演算法對payload字串產生簽名\n",
        "    signature = hmac.new(api_secret.encode(\"utf-8\"), payload.encode(\"utf-8\"), digestmod=sha256).hexdigest()\n",
        "    print(\"sign=\" + signature)  # 輸出簽名供除錯\n",
        "    return signature"
      ],
      "metadata": {
        "id": "5JwnKkWAlFLF"
      },
      "execution_count": null,
      "outputs": []
    },
    {
      "cell_type": "code",
      "source": [
        "def send_request(method, path, urlpa, payload):\n",
        "    # 組合完整請求URL，包含簽名參數\n",
        "    url = \"%s%s?%s&signature=%s\" % (APIURL, path, urlpa, get_sign(SECRETKEY, urlpa))\n",
        "    print(url)  # 輸出請求URL方便調試\n",
        "\n",
        "    headers = {\n",
        "        'X-BX-APIKEY': APIKEY,  # API Key放HTTP Header\n",
        "    }\n",
        "\n",
        "    response = requests.request(method, url, headers=headers, data=payload)  # 發送HTTP請求\n",
        "    return response.text  # 回傳API回應內容\n"
      ],
      "metadata": {
        "id": "uxCXJ-yLlGeF"
      },
      "execution_count": null,
      "outputs": []
    },
    {
      "cell_type": "code",
      "source": [
        "def parseParam(paramsMap):\n",
        "\n",
        "    # 將參數依鍵排序並組合成URL參數字串\n",
        "    sortedKeys = sorted(paramsMap)\n",
        "    paramsStr = \"&\".join([\"%s=%s\" % (x, paramsMap[x]) for x in sortedKeys])\n",
        "\n",
        "    # 加入毫秒時間戳，防止重放攻擊\n",
        "    if paramsStr != \"\":\n",
        "        return paramsStr + \"&timestamp=\" + str(int(time.time() * 1000))\n",
        "    else:\n",
        "        return \"timestamp=\" + str(int(time.time() * 1000))\n"
      ],
      "metadata": {
        "id": "PVDgCluUlH89"
      },
      "execution_count": null,
      "outputs": []
    },
    {
      "cell_type": "code",
      "source": [
        "if __name__ == '__main__':\n",
        "    print(\"demo:\", demo())  # 執行示範並印出結果"
      ],
      "metadata": {
        "id": "SSJyvFGPlJF4"
      },
      "execution_count": null,
      "outputs": []
    }
  ]
}
